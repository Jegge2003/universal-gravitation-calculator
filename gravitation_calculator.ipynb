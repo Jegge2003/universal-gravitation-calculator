{
  "nbformat": 4,
  "nbformat_minor": 0,
  "metadata": {
    "colab": {
      "name": "gravitation_calculator.ipynb",
      "provenance": [],
      "authorship_tag": "ABX9TyMCSdUMIew5gkE+zeBNTWd9",
      "include_colab_link": true
    },
    "kernelspec": {
      "name": "python3",
      "display_name": "Python 3"
    },
    "language_info": {
      "name": "python"
    }
  },
  "cells": [
    {
      "cell_type": "markdown",
      "metadata": {
        "id": "view-in-github",
        "colab_type": "text"
      },
      "source": [
        "<a href=\"https://colab.research.google.com/github/Jegge2003/universal-gravitation-calculator/blob/main/gravitation_calculator.ipynb\" target=\"_parent\"><img src=\"https://colab.research.google.com/assets/colab-badge.svg\" alt=\"Open In Colab\"/></a>"
      ]
    },
    {
      "cell_type": "markdown",
      "source": [
        "**NEWTON'S LAW OF UNIVERSAL GRAVITATION CALCULATOR**"
      ],
      "metadata": {
        "id": "7w12LjpsYNfD"
      }
    },
    {
      "cell_type": "markdown",
      "source": [
        "The code initializes a value for G. It takes the input of the masses of the two objects involved and converts them into float values. It then takes the distance between the two masses and converts that into a float value as well. It then computes the force between them. It then prints the value obtained to the user. "
      ],
      "metadata": {
        "id": "qwcuNfpsYSMe"
      }
    },
    {
      "cell_type": "code",
      "execution_count": 2,
      "metadata": {
        "colab": {
          "base_uri": "https://localhost:8080/"
        },
        "id": "r8wTIbTqYIWt",
        "outputId": "326b216d-189e-4817-a4fd-a350f5df990b"
      },
      "outputs": [
        {
          "output_type": "stream",
          "name": "stdout",
          "text": [
            "Enter the mass of the first object in kilograms: 20\n",
            "Enter the mass of the second object in kilograms: 10\n",
            "Enter the distance of separation between the two masses in meters: 2\n",
            "The force that exists between the two objects is 3.337e-09 Newtons\n"
          ]
        }
      ],
      "source": [
        "G = 6.674e-11\n",
        "#Taking the values of the masses involved\n",
        "M = float(input('Enter the mass of the first object in kilograms: '))\n",
        "m = float(input('Enter the mass of the second object in kilograms: '))\n",
        "\n",
        "#Taking the input of the distance of separation between the two masses\n",
        "r = float(input('Enter the distance of separation between the two masses in meters: '))\n",
        "\n",
        "#Calculating the force\n",
        "F = (G*M*m)/r**2\n",
        "\n",
        "#Printing the force in newtons\n",
        "print(f'The force that exists between the two objects is {F} Newtons'.format(F))"
      ]
    },
    {
      "cell_type": "code",
      "source": [
        ""
      ],
      "metadata": {
        "id": "FceqA-ojYW7m"
      },
      "execution_count": null,
      "outputs": []
    }
  ]
}